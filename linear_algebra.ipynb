{
 "cells": [
  {
   "cell_type": "code",
   "execution_count": null,
   "metadata": {},
   "outputs": [],
   "source": [
    "from manim import *\n",
    "\n",
    "class VectorExample(Scene):\n",
    "    def construct(self):\n",
    "        plane = NumberPlane()\n",
    "        vector_1 = Vector([1,2])\n",
    "        vector_2 = Vector([-5,-2])\n",
    "        self.add(plane, vector_1, vector_2)"
   ]
  }
 ],
 "metadata": {
  "kernelspec": {
   "display_name": ".venv-learning",
   "language": "python",
   "name": "python3"
  },
  "language_info": {
   "name": "python",
   "version": "3.10.6"
  }
 },
 "nbformat": 4,
 "nbformat_minor": 2
}
